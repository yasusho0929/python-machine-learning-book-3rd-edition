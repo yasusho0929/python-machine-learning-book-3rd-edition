{
 "cells": [
  {
   "cell_type": "code",
   "execution_count": null,
   "metadata": {},
   "outputs": [],
   "source": [
    "from google.colab import drive\n",
    "drive.mount('/content/drive')\n",
    "REPO_URL = \"https://github.com/rasbt/python-machine-learning-book-3rd-edition\"\n",
    "FOLDER_NAME = \"a\"\n",
    "!git clone $REPO_URL"
   ]
  }
 ],
 "metadata": {
  "language_info": {
   "name": "python"
  },
  "orig_nbformat": 4
 },
 "nbformat": 4,
 "nbformat_minor": 2
}
